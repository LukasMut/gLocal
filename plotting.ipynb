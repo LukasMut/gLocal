{
  "nbformat": 4,
  "nbformat_minor": 0,
  "metadata": {
    "colab": {
      "provenance": [],
      "authorship_tag": "ABX9TyOmakHcWf8ZtYtYnjbwb9pS",
      "include_colab_link": true
    },
    "kernelspec": {
      "name": "python3",
      "display_name": "Python 3"
    },
    "language_info": {
      "name": "python"
    }
  },
  "cells": [
    {
      "cell_type": "markdown",
      "metadata": {
        "id": "view-in-github",
        "colab_type": "text"
      },
      "source": [
        "<a href=\"https://colab.research.google.com/github/LukasMut/AlignedReps/blob/plotting-notebooks/plotting.ipynb\" target=\"_parent\"><img src=\"https://colab.research.google.com/assets/colab-badge.svg\" alt=\"Open In Colab\"/></a>"
      ]
    },
    {
      "cell_type": "code",
      "execution_count": null,
      "metadata": {
        "id": "zmpwab6Oyybw"
      },
      "outputs": [],
      "source": [
        "# replace with new repository later\n",
        "!git clone https://github.com/LukasMut/HumanAlignment.git\n",
        "%cd HumanAlignment"
      ]
    },
    {
      "cell_type": "code",
      "source": [
        "# Imports\n",
        "import pandas as pd\n",
        "import seaborn as sns\n",
        "import matplotlib.pyplot as plt"
      ],
      "metadata": {
        "id": "sfAQkDo20KlL"
      },
      "execution_count": 8,
      "outputs": []
    },
    {
      "cell_type": "code",
      "source": [
        "# network information\n",
        "networks = pd.read_csv('networks.csv')\n",
        "print(networks)"
      ],
      "metadata": {
        "id": "g0tX5uA2z3Fh"
      },
      "execution_count": null,
      "outputs": []
    },
    {
      "cell_type": "code",
      "source": [],
      "metadata": {
        "id": "tMdRRVg60Yw9"
      },
      "execution_count": null,
      "outputs": []
    }
  ]
}